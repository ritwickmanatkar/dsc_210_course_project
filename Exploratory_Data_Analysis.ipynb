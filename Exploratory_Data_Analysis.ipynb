{
 "nbformat": 4,
 "nbformat_minor": 0,
 "metadata": {
  "colab": {
   "provenance": []
  },
  "kernelspec": {
   "name": "python3",
   "display_name": "Python 3"
  },
  "language_info": {
   "name": "python"
  }
 },
 "cells": [
  {
   "cell_type": "code",
   "source": [
    "import pandas as pd\n",
    "from sklearn.preprocessing import LabelEncoder\n",
    "import matplotlib.pyplot as plt\n",
    "from matplotlib.colors import LinearSegmentedColormap\n",
    "import seaborn as sns\n"
   ],
   "metadata": {
    "id": "7qexqzvHK-_h"
   },
   "execution_count": null,
   "outputs": []
  },
  {
   "cell_type": "code",
   "source": [
    "df = pd.read_csv (\"./BookReviews.csv\")"
   ],
   "metadata": {
    "id": "pel1W2MgG3_E"
   },
   "execution_count": null,
   "outputs": []
  },
  {
   "cell_type": "code",
   "source": [
    "def print_relevant_info(df):\n",
    "    print(f\"Shape: {df.shape}\")\n",
    "    print(f\"Info: \\n{df.info()}\")"
   ],
   "metadata": {
    "id": "C4AouN3fG7YY"
   },
   "execution_count": null,
   "outputs": []
  },
  {
   "cell_type": "code",
   "source": [
    "df.columns = ['User Id', 'Comic Id', 'Rating']\n",
    "df"
   ],
   "metadata": {
    "id": "bvVdMAI5y031",
    "outputId": "260ebde0-2d01-48a5-d157-b45376a9f5cd",
    "colab": {
     "base_uri": "https://localhost:8080/",
     "height": 424
    }
   },
   "execution_count": null,
   "outputs": [
    {
     "output_type": "execute_result",
     "data": {
      "text/plain": [
       "                                  User Id  Comic Id  Rating\n",
       "0        4980305f36ab8c2ab831e401a185f28a  13573616       5\n",
       "1        4980305f36ab8c2ab831e401a185f28a  12712367       5\n",
       "2        4980305f36ab8c2ab831e401a185f28a  12309315       5\n",
       "3        4980305f36ab8c2ab831e401a185f28a  11297580       5\n",
       "4        4980305f36ab8c2ab831e401a185f28a  21412000       5\n",
       "...                                   ...       ...     ...\n",
       "1495004  98f60eac2d71abd2956f93de2f8c4e9d  26138086       2\n",
       "1495005  98f60eac2d71abd2956f93de2f8c4e9d   7703037       4\n",
       "1495006  98f60eac2d71abd2956f93de2f8c4e9d  22718721       3\n",
       "1495007  98f60eac2d71abd2956f93de2f8c4e9d  26067594       4\n",
       "1495008  98f60eac2d71abd2956f93de2f8c4e9d     52367       1\n",
       "\n",
       "[1495009 rows x 3 columns]"
      ],
      "text/html": [
       "\n",
       "  <div id=\"df-7b25e84d-981e-4fd6-833d-4f76a058ad11\" class=\"colab-df-container\">\n",
       "    <div>\n",
       "<style scoped>\n",
       "    .dataframe tbody tr th:only-of-type {\n",
       "        vertical-align: middle;\n",
       "    }\n",
       "\n",
       "    .dataframe tbody tr th {\n",
       "        vertical-align: top;\n",
       "    }\n",
       "\n",
       "    .dataframe thead th {\n",
       "        text-align: right;\n",
       "    }\n",
       "</style>\n",
       "<table border=\"1\" class=\"dataframe\">\n",
       "  <thead>\n",
       "    <tr style=\"text-align: right;\">\n",
       "      <th></th>\n",
       "      <th>User Id</th>\n",
       "      <th>Comic Id</th>\n",
       "      <th>Rating</th>\n",
       "    </tr>\n",
       "  </thead>\n",
       "  <tbody>\n",
       "    <tr>\n",
       "      <th>0</th>\n",
       "      <td>4980305f36ab8c2ab831e401a185f28a</td>\n",
       "      <td>13573616</td>\n",
       "      <td>5</td>\n",
       "    </tr>\n",
       "    <tr>\n",
       "      <th>1</th>\n",
       "      <td>4980305f36ab8c2ab831e401a185f28a</td>\n",
       "      <td>12712367</td>\n",
       "      <td>5</td>\n",
       "    </tr>\n",
       "    <tr>\n",
       "      <th>2</th>\n",
       "      <td>4980305f36ab8c2ab831e401a185f28a</td>\n",
       "      <td>12309315</td>\n",
       "      <td>5</td>\n",
       "    </tr>\n",
       "    <tr>\n",
       "      <th>3</th>\n",
       "      <td>4980305f36ab8c2ab831e401a185f28a</td>\n",
       "      <td>11297580</td>\n",
       "      <td>5</td>\n",
       "    </tr>\n",
       "    <tr>\n",
       "      <th>4</th>\n",
       "      <td>4980305f36ab8c2ab831e401a185f28a</td>\n",
       "      <td>21412000</td>\n",
       "      <td>5</td>\n",
       "    </tr>\n",
       "    <tr>\n",
       "      <th>...</th>\n",
       "      <td>...</td>\n",
       "      <td>...</td>\n",
       "      <td>...</td>\n",
       "    </tr>\n",
       "    <tr>\n",
       "      <th>1495004</th>\n",
       "      <td>98f60eac2d71abd2956f93de2f8c4e9d</td>\n",
       "      <td>26138086</td>\n",
       "      <td>2</td>\n",
       "    </tr>\n",
       "    <tr>\n",
       "      <th>1495005</th>\n",
       "      <td>98f60eac2d71abd2956f93de2f8c4e9d</td>\n",
       "      <td>7703037</td>\n",
       "      <td>4</td>\n",
       "    </tr>\n",
       "    <tr>\n",
       "      <th>1495006</th>\n",
       "      <td>98f60eac2d71abd2956f93de2f8c4e9d</td>\n",
       "      <td>22718721</td>\n",
       "      <td>3</td>\n",
       "    </tr>\n",
       "    <tr>\n",
       "      <th>1495007</th>\n",
       "      <td>98f60eac2d71abd2956f93de2f8c4e9d</td>\n",
       "      <td>26067594</td>\n",
       "      <td>4</td>\n",
       "    </tr>\n",
       "    <tr>\n",
       "      <th>1495008</th>\n",
       "      <td>98f60eac2d71abd2956f93de2f8c4e9d</td>\n",
       "      <td>52367</td>\n",
       "      <td>1</td>\n",
       "    </tr>\n",
       "  </tbody>\n",
       "</table>\n",
       "<p>1495009 rows × 3 columns</p>\n",
       "</div>\n",
       "    <div class=\"colab-df-buttons\">\n",
       "\n",
       "  <div class=\"colab-df-container\">\n",
       "    <button class=\"colab-df-convert\" onclick=\"convertToInteractive('df-7b25e84d-981e-4fd6-833d-4f76a058ad11')\"\n",
       "            title=\"Convert this dataframe to an interactive table.\"\n",
       "            style=\"display:none;\">\n",
       "\n",
       "  <svg xmlns=\"http://www.w3.org/2000/svg\" height=\"24px\" viewBox=\"0 -960 960 960\">\n",
       "    <path d=\"M120-120v-720h720v720H120Zm60-500h600v-160H180v160Zm220 220h160v-160H400v160Zm0 220h160v-160H400v160ZM180-400h160v-160H180v160Zm440 0h160v-160H620v160ZM180-180h160v-160H180v160Zm440 0h160v-160H620v160Z\"/>\n",
       "  </svg>\n",
       "    </button>\n",
       "\n",
       "  <style>\n",
       "    .colab-df-container {\n",
       "      display:flex;\n",
       "      gap: 12px;\n",
       "    }\n",
       "\n",
       "    .colab-df-convert {\n",
       "      background-color: #E8F0FE;\n",
       "      border: none;\n",
       "      border-radius: 50%;\n",
       "      cursor: pointer;\n",
       "      display: none;\n",
       "      fill: #1967D2;\n",
       "      height: 32px;\n",
       "      padding: 0 0 0 0;\n",
       "      width: 32px;\n",
       "    }\n",
       "\n",
       "    .colab-df-convert:hover {\n",
       "      background-color: #E2EBFA;\n",
       "      box-shadow: 0px 1px 2px rgba(60, 64, 67, 0.3), 0px 1px 3px 1px rgba(60, 64, 67, 0.15);\n",
       "      fill: #174EA6;\n",
       "    }\n",
       "\n",
       "    .colab-df-buttons div {\n",
       "      margin-bottom: 4px;\n",
       "    }\n",
       "\n",
       "    [theme=dark] .colab-df-convert {\n",
       "      background-color: #3B4455;\n",
       "      fill: #D2E3FC;\n",
       "    }\n",
       "\n",
       "    [theme=dark] .colab-df-convert:hover {\n",
       "      background-color: #434B5C;\n",
       "      box-shadow: 0px 1px 3px 1px rgba(0, 0, 0, 0.15);\n",
       "      filter: drop-shadow(0px 1px 2px rgba(0, 0, 0, 0.3));\n",
       "      fill: #FFFFFF;\n",
       "    }\n",
       "  </style>\n",
       "\n",
       "    <script>\n",
       "      const buttonEl =\n",
       "        document.querySelector('#df-7b25e84d-981e-4fd6-833d-4f76a058ad11 button.colab-df-convert');\n",
       "      buttonEl.style.display =\n",
       "        google.colab.kernel.accessAllowed ? 'block' : 'none';\n",
       "\n",
       "      async function convertToInteractive(key) {\n",
       "        const element = document.querySelector('#df-7b25e84d-981e-4fd6-833d-4f76a058ad11');\n",
       "        const dataTable =\n",
       "          await google.colab.kernel.invokeFunction('convertToInteractive',\n",
       "                                                    [key], {});\n",
       "        if (!dataTable) return;\n",
       "\n",
       "        const docLinkHtml = 'Like what you see? Visit the ' +\n",
       "          '<a target=\"_blank\" href=https://colab.research.google.com/notebooks/data_table.ipynb>data table notebook</a>'\n",
       "          + ' to learn more about interactive tables.';\n",
       "        element.innerHTML = '';\n",
       "        dataTable['output_type'] = 'display_data';\n",
       "        await google.colab.output.renderOutput(dataTable, element);\n",
       "        const docLink = document.createElement('div');\n",
       "        docLink.innerHTML = docLinkHtml;\n",
       "        element.appendChild(docLink);\n",
       "      }\n",
       "    </script>\n",
       "  </div>\n",
       "\n",
       "\n",
       "<div id=\"df-6c5cfc46-afb6-4a20-818d-98f5b2b596fe\">\n",
       "  <button class=\"colab-df-quickchart\" onclick=\"quickchart('df-6c5cfc46-afb6-4a20-818d-98f5b2b596fe')\"\n",
       "            title=\"Suggest charts\"\n",
       "            style=\"display:none;\">\n",
       "\n",
       "<svg xmlns=\"http://www.w3.org/2000/svg\" height=\"24px\"viewBox=\"0 0 24 24\"\n",
       "     width=\"24px\">\n",
       "    <g>\n",
       "        <path d=\"M19 3H5c-1.1 0-2 .9-2 2v14c0 1.1.9 2 2 2h14c1.1 0 2-.9 2-2V5c0-1.1-.9-2-2-2zM9 17H7v-7h2v7zm4 0h-2V7h2v10zm4 0h-2v-4h2v4z\"/>\n",
       "    </g>\n",
       "</svg>\n",
       "  </button>\n",
       "\n",
       "<style>\n",
       "  .colab-df-quickchart {\n",
       "      --bg-color: #E8F0FE;\n",
       "      --fill-color: #1967D2;\n",
       "      --hover-bg-color: #E2EBFA;\n",
       "      --hover-fill-color: #174EA6;\n",
       "      --disabled-fill-color: #AAA;\n",
       "      --disabled-bg-color: #DDD;\n",
       "  }\n",
       "\n",
       "  [theme=dark] .colab-df-quickchart {\n",
       "      --bg-color: #3B4455;\n",
       "      --fill-color: #D2E3FC;\n",
       "      --hover-bg-color: #434B5C;\n",
       "      --hover-fill-color: #FFFFFF;\n",
       "      --disabled-bg-color: #3B4455;\n",
       "      --disabled-fill-color: #666;\n",
       "  }\n",
       "\n",
       "  .colab-df-quickchart {\n",
       "    background-color: var(--bg-color);\n",
       "    border: none;\n",
       "    border-radius: 50%;\n",
       "    cursor: pointer;\n",
       "    display: none;\n",
       "    fill: var(--fill-color);\n",
       "    height: 32px;\n",
       "    padding: 0;\n",
       "    width: 32px;\n",
       "  }\n",
       "\n",
       "  .colab-df-quickchart:hover {\n",
       "    background-color: var(--hover-bg-color);\n",
       "    box-shadow: 0 1px 2px rgba(60, 64, 67, 0.3), 0 1px 3px 1px rgba(60, 64, 67, 0.15);\n",
       "    fill: var(--button-hover-fill-color);\n",
       "  }\n",
       "\n",
       "  .colab-df-quickchart-complete:disabled,\n",
       "  .colab-df-quickchart-complete:disabled:hover {\n",
       "    background-color: var(--disabled-bg-color);\n",
       "    fill: var(--disabled-fill-color);\n",
       "    box-shadow: none;\n",
       "  }\n",
       "\n",
       "  .colab-df-spinner {\n",
       "    border: 2px solid var(--fill-color);\n",
       "    border-color: transparent;\n",
       "    border-bottom-color: var(--fill-color);\n",
       "    animation:\n",
       "      spin 1s steps(1) infinite;\n",
       "  }\n",
       "\n",
       "  @keyframes spin {\n",
       "    0% {\n",
       "      border-color: transparent;\n",
       "      border-bottom-color: var(--fill-color);\n",
       "      border-left-color: var(--fill-color);\n",
       "    }\n",
       "    20% {\n",
       "      border-color: transparent;\n",
       "      border-left-color: var(--fill-color);\n",
       "      border-top-color: var(--fill-color);\n",
       "    }\n",
       "    30% {\n",
       "      border-color: transparent;\n",
       "      border-left-color: var(--fill-color);\n",
       "      border-top-color: var(--fill-color);\n",
       "      border-right-color: var(--fill-color);\n",
       "    }\n",
       "    40% {\n",
       "      border-color: transparent;\n",
       "      border-right-color: var(--fill-color);\n",
       "      border-top-color: var(--fill-color);\n",
       "    }\n",
       "    60% {\n",
       "      border-color: transparent;\n",
       "      border-right-color: var(--fill-color);\n",
       "    }\n",
       "    80% {\n",
       "      border-color: transparent;\n",
       "      border-right-color: var(--fill-color);\n",
       "      border-bottom-color: var(--fill-color);\n",
       "    }\n",
       "    90% {\n",
       "      border-color: transparent;\n",
       "      border-bottom-color: var(--fill-color);\n",
       "    }\n",
       "  }\n",
       "</style>\n",
       "\n",
       "  <script>\n",
       "    async function quickchart(key) {\n",
       "      const quickchartButtonEl =\n",
       "        document.querySelector('#' + key + ' button');\n",
       "      quickchartButtonEl.disabled = true;  // To prevent multiple clicks.\n",
       "      quickchartButtonEl.classList.add('colab-df-spinner');\n",
       "      try {\n",
       "        const charts = await google.colab.kernel.invokeFunction(\n",
       "            'suggestCharts', [key], {});\n",
       "      } catch (error) {\n",
       "        console.error('Error during call to suggestCharts:', error);\n",
       "      }\n",
       "      quickchartButtonEl.classList.remove('colab-df-spinner');\n",
       "      quickchartButtonEl.classList.add('colab-df-quickchart-complete');\n",
       "    }\n",
       "    (() => {\n",
       "      let quickchartButtonEl =\n",
       "        document.querySelector('#df-6c5cfc46-afb6-4a20-818d-98f5b2b596fe button');\n",
       "      quickchartButtonEl.style.display =\n",
       "        google.colab.kernel.accessAllowed ? 'block' : 'none';\n",
       "    })();\n",
       "  </script>\n",
       "</div>\n",
       "    </div>\n",
       "  </div>\n"
      ]
     },
     "metadata": {},
     "execution_count": 6
    }
   ]
  },
  {
   "cell_type": "code",
   "source": [
    "def basic_statistics(df):\n",
    "  df.columns = ['user', 'item', 'rating']\n",
    "  print(\"#Users: \", len(df['user'].unique()))\n",
    "  print(\"#Books: \", len(df['item'].unique()))"
   ],
   "metadata": {
    "id": "SiBqu4ENHvPE"
   },
   "execution_count": null,
   "outputs": []
  },
  {
   "cell_type": "code",
   "source": [
    "def get_encoder(df):\n",
    "    encoder = LabelEncoder()\n",
    "    encoder.fit(df['user'])\n",
    "    return encoder\n"
   ],
   "metadata": {
    "id": "QyX-hbLVHel2"
   },
   "execution_count": null,
   "outputs": []
  },
  {
   "cell_type": "code",
   "source": [
    "def encode_user_id_column(df, encoder):\n",
    "    encoded_ids = encoder.transform(df['user'])\n",
    "    df['encoded_user_ids'] = encoded_ids\n",
    "    return df[['encoded_user_ids', 'item', 'rating']]\n"
   ],
   "metadata": {
    "id": "w4e2bBnJHepV"
   },
   "execution_count": null,
   "outputs": []
  },
  {
   "cell_type": "code",
   "source": [
    "def plot_ratings_data(df):\n",
    "\n",
    "    colors = ['dodgerblue', 'orange', 'yellowgreen', 'red', 'mediumpurple']\n",
    "    bar_data = pd.DataFrame(\n",
    "        {\n",
    "            'rating': df.rating.value_counts().index,\n",
    "            'count_ratings': df.rating.value_counts().values\n",
    "        }\n",
    "    ).sort_values(by=['rating'])\n",
    "\n",
    "    plt.bar(bar_data.rating, bar_data.count_ratings, color = colors)\n",
    "\n",
    "    for i in range(len(bar_data.rating)):\n",
    "      plt.annotate(str(bar_data.count_ratings[i]), xy=(bar_data.rating[i],bar_data.count_ratings[i]), ha='center', va='bottom')\n",
    "\n",
    "    plt.title(\"Distribution of ratings in the dataset\")\n",
    "    plt.xlabel(\"Rating\")\n",
    "    plt.ylabel(\"No of ratings\")\n",
    "    plt.tight_layout()\n",
    "    plt.show()\n"
   ],
   "metadata": {
    "id": "eTfOod-oHesn"
   },
   "execution_count": null,
   "outputs": []
  },
  {
   "cell_type": "code",
   "source": [
    "\n",
    "def plot_reading_distribution(df):\n",
    "    g = sns.displot(df.encoded_user_ids.value_counts().values, kde=True, bins=150)\n",
    "    g.fig.set_figheight(6)\n",
    "    g.fig.set_figwidth(10)\n",
    "    plt.xlabel('No of books read by a user')\n",
    "    plt.ylabel(\"No of users\")\n",
    "    plt.grid(zorder=-1.0)\n",
    "    plt.title(\"How many books are read by the users individually?\")\n",
    "    plt.tight_layout()\n",
    "    plt.show()\n"
   ],
   "metadata": {
    "id": "yr9njhFHHewB"
   },
   "execution_count": null,
   "outputs": []
  },
  {
   "cell_type": "code",
   "source": [
    "def sparse_matrix_visualization(df):\n",
    "    ratings_matrix = df.pivot(\n",
    "        index='encoded_user_ids',\n",
    "        values='rating',\n",
    "        columns=['item']\n",
    "    ).fillna(0)\n",
    "    ratings_matrix.head()\n",
    "    myColors = (['gainsboro', 'orange', 'green', 'red', 'blue'])\n",
    "    cmap = LinearSegmentedColormap.from_list('Custom', myColors, len(myColors))\n",
    "    hm = sns.heatmap(ratings_matrix, cmap=cmap)\n",
    "    hm.set(xticklabels=[], yticklabels=[])\n",
    "    hm.set(xlabel=f\"{ratings_matrix.shape[1]} books\", ylabel=f\"{ratings_matrix.shape[0]} users\")\n",
    "    colorbar = hm.collections[0].colorbar\n",
    "    colorbar.set_ticks([0.416, 1.25, 2.08, 2.912, 3.749, 4.581])\n",
    "    colorbar.set_ticklabels(['0', '1', '2', '3', '4', '5'])\n",
    "    plt.tight_layout()\n",
    "    plt.show()\n"
   ],
   "metadata": {
    "id": "dzal30o7Hoqd"
   },
   "execution_count": null,
   "outputs": []
  },
  {
   "cell_type": "code",
   "source": [
    "print_relevant_info(df)"
   ],
   "metadata": {
    "colab": {
     "base_uri": "https://localhost:8080/"
    },
    "id": "z8M4iBGQQNWr",
    "outputId": "74b79e90-9711-46da-c882-32efbdcec0d1"
   },
   "execution_count": null,
   "outputs": [
    {
     "output_type": "stream",
     "name": "stdout",
     "text": [
      "Shape: (1495009, 3)\n",
      "<class 'pandas.core.frame.DataFrame'>\n",
      "RangeIndex: 1495009 entries, 0 to 1495008\n",
      "Data columns (total 3 columns):\n",
      " #   Column   Non-Null Count    Dtype \n",
      "---  ------   --------------    ----- \n",
      " 0   user_id  1495009 non-null  object\n",
      " 1   book_id  1495009 non-null  int64 \n",
      " 2   rating   1495009 non-null  int64 \n",
      "dtypes: int64(2), object(1)\n",
      "memory usage: 34.2+ MB\n",
      "Info: \n",
      "None\n"
     ]
    }
   ]
  },
  {
   "cell_type": "code",
   "source": [
    "basic_statistics(df)"
   ],
   "metadata": {
    "colab": {
     "base_uri": "https://localhost:8080/"
    },
    "id": "mpKklL4OMysC",
    "outputId": "3d1eda1f-8071-41e1-abd2-8c6cc1c3e5b4"
   },
   "execution_count": null,
   "outputs": [
    {
     "output_type": "stream",
     "name": "stdout",
     "text": [
      "#Users:  8728\n",
      "#Books:  7789\n"
     ]
    }
   ]
  },
  {
   "cell_type": "code",
   "source": [
    "encoder = get_encoder(df)"
   ],
   "metadata": {
    "id": "fZWaeBNSQSUK"
   },
   "execution_count": null,
   "outputs": []
  },
  {
   "cell_type": "code",
   "source": [
    "new_df = encode_user_id_column(df, encoder)"
   ],
   "metadata": {
    "id": "qWTuhZBxQWOI"
   },
   "execution_count": null,
   "outputs": []
  },
  {
   "cell_type": "code",
   "source": [
    "plot_ratings_data(new_df)"
   ],
   "metadata": {
    "colab": {
     "base_uri": "https://localhost:8080/",
     "height": 487
    },
    "id": "96krWQ9tQd4H",
    "outputId": "f2e0d10a-f430-4f75-ae72-342ecc4d5e12"
   },
   "execution_count": null,
   "outputs": [
    {
     "output_type": "display_data",
     "data": {
      "text/plain": [
       "<Figure size 640x480 with 1 Axes>"
      ],
      "image/png": "[encoded data removed]"
     },
     "metadata": {}
    }
   ]
  },
  {
   "cell_type": "code",
   "source": [
    "plot_reading_distribution(new_df)"
   ],
   "metadata": {
    "colab": {
     "base_uri": "https://localhost:8080/",
     "height": 607
    },
    "id": "xRANYcwDQgII",
    "outputId": "0c603f02-b9e2-437d-94d1-1285d7587222"
   },
   "execution_count": null,
   "outputs": [
    {
     "output_type": "display_data",
     "data": {
      "text/plain": [
       "<Figure size 1000x600 with 1 Axes>"
      ],
      "image/png": "[encoded data removed]"
     },
     "metadata": {}
    }
   ]
  },
  {
   "cell_type": "code",
   "source": [
    "sparse_matrix_visualization(new_df)"
   ],
   "metadata": {
    "colab": {
     "base_uri": "https://localhost:8080/",
     "height": 487
    },
    "id": "fhSiRtElQiW8",
    "outputId": "b5cee0a8-e610-40be-8566-3ab75a054c50"
   },
   "execution_count": null,
   "outputs": [
    {
     "output_type": "display_data",
     "data": {
      "text/plain": [
       "<Figure size 640x480 with 2 Axes>"
      ],
      "image/png": "[encoded data removed]"
     },
     "metadata": {}
    }
   ]
  }
 ]
}
