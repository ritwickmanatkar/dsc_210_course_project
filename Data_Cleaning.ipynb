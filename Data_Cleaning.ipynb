{
 "nbformat": 4,
 "nbformat_minor": 0,
 "metadata": {
  "colab": {
   "provenance": []
  },
  "kernelspec": {
   "name": "python3",
   "display_name": "Python 3"
  },
  "language_info": {
   "name": "python"
  }
 },
 "cells": [
  {
   "cell_type": "code",
   "source": [
    "import json\n",
    "reviews = []\n",
    "\n",
    "with open(\"/Users/ritwickmanatkar/Documents/Datasets/goodreads-api/goodreads_interactions_comics_graphic.json\") as file:\n",
    "    for line in file:\n",
    "        record = json.loads(line)\n",
    "        reviews.append(record)\n",
    "print(len(reviews), \"records retrieved\")"
   ],
   "metadata": {
    "colab": {
     "base_uri": "https://localhost:8080/"
    },
    "id": "REzRVz8Jm9uV",
    "outputId": "f0043afe-6580-4791-f09c-0241e74b0e6b"
   },
   "execution_count": null,
   "outputs": [
    {
     "output_type": "stream",
     "name": "stdout",
     "text": [
      "7347630 records retrieved\n"
     ]
    }
   ]
  },
  {
   "cell_type": "code",
   "source": [
    "#Only keeping the reviews where the book is read\n",
    "\n",
    "reviews = [review for review in reviews if review.get('is_read')]\n",
    "print(len(reviews), \"records retrieved\")"
   ],
   "metadata": {
    "colab": {
     "base_uri": "https://localhost:8080/"
    },
    "id": "wh-VXswlrGvb",
    "outputId": "c129158b-5629-4a18-89e9-26e0d4bb4641"
   },
   "execution_count": null,
   "outputs": [
    {
     "output_type": "stream",
     "name": "stdout",
     "text": [
      "4764133 records retrieved\n"
     ]
    }
   ]
  },
  {
   "cell_type": "code",
   "source": [
    "data = []\n",
    "\n",
    "for review in reviews:\n",
    "  data.append([review['user_id'], review['book_id'], review['rating']])"
   ],
   "metadata": {
    "id": "-UyZTthftnCC"
   },
   "execution_count": null,
   "outputs": []
  },
  {
   "cell_type": "code",
   "source": [
    "import pandas as pd\n",
    "\n",
    "reviews = pd.DataFrame(data, columns = [\"user_id\", \"book_id\", \"rating\"])\n",
    "print(reviews.head())"
   ],
   "metadata": {
    "colab": {
     "base_uri": "https://localhost:8080/"
    },
    "id": "e6tS4YIupZkj",
    "outputId": "f9a43279-626d-4a27-b848-394e27a0cad3"
   },
   "execution_count": null,
   "outputs": [
    {
     "output_type": "stream",
     "name": "stdout",
     "text": [
      "                            user_id   book_id  rating\n",
      "0  8842281e1d1347389f2ab93d60773d4d     24815       5\n",
      "1  8842281e1d1347389f2ab93d60773d4d     24818       5\n",
      "2  8842281e1d1347389f2ab93d60773d4d     59715       5\n",
      "3  8842281e1d1347389f2ab93d60773d4d     24816       5\n",
      "4  d986f354a045ffb91234e4af4d1b12fd  28116811       0\n"
     ]
    }
   ]
  },
  {
   "cell_type": "code",
   "source": [
    "print(len(reviews))"
   ],
   "metadata": {
    "colab": {
     "base_uri": "https://localhost:8080/"
    },
    "id": "XCsUeXUewDZX",
    "outputId": "8477e898-ac35-45e7-bd1f-ec6584d5ce9c"
   },
   "execution_count": null,
   "outputs": [
    {
     "output_type": "stream",
     "name": "stdout",
     "text": [
      "4764133\n"
     ]
    }
   ]
  },
  {
   "cell_type": "code",
   "source": [
    "#Removing books with 0 rating\n",
    "\n",
    "reviews = reviews[reviews[\"rating\"] != 0]\n",
    "print(reviews.head())"
   ],
   "metadata": {
    "colab": {
     "base_uri": "https://localhost:8080/"
    },
    "id": "r6XV1T3YAhMI",
    "outputId": "be1624f8-5737-4ebc-c03c-5699ffe1e8ce"
   },
   "execution_count": null,
   "outputs": [
    {
     "output_type": "stream",
     "name": "stdout",
     "text": [
      "                            user_id   book_id  rating\n",
      "0  8842281e1d1347389f2ab93d60773d4d     24815       5\n",
      "1  8842281e1d1347389f2ab93d60773d4d     24818       5\n",
      "2  8842281e1d1347389f2ab93d60773d4d     59715       5\n",
      "3  8842281e1d1347389f2ab93d60773d4d     24816       5\n",
      "7  7504b2aee1ecb5b2872d3da381c6c91e  13284343       4\n"
     ]
    }
   ]
  },
  {
   "cell_type": "code",
   "source": [
    "# Look for the users who reviewed more than 100 books\n",
    "\n",
    "usercount = reviews[[\"user_id\", \"book_id\"]].groupby(\"user_id\").count()\n",
    "usercount = usercount[usercount[\"book_id\"] >= 100]\n",
    "print(usercount.head())"
   ],
   "metadata": {
    "id": "BUqLT1kzwN34",
    "colab": {
     "base_uri": "https://localhost:8080/"
    },
    "outputId": "4b7ecfb1-dbc7-477b-b55e-287ff55fb4c3"
   },
   "execution_count": null,
   "outputs": [
    {
     "output_type": "stream",
     "name": "stdout",
     "text": [
      "                                  book_id\n",
      "user_id                                  \n",
      "000b9da55af4420915d408f205919d29      272\n",
      "001010815d3b2692435dfc70285d06e4      546\n",
      "0021909de18ab01ec27517ea8dc0aa93      171\n",
      "002263ca74da8c31029ae7ec5754083b      255\n",
      "00271d2abc3a798e0afa8f6ba17e34b6      193\n"
     ]
    }
   ]
  },
  {
   "cell_type": "code",
   "source": [
    "# Look for the books who reviewed by more than 100 users\n",
    "\n",
    "bookcount = reviews[[\"user_id\", \"book_id\"]].groupby(\"book_id\").count()\n",
    "bookcount = bookcount[bookcount[\"user_id\"] >= 100]\n",
    "print(bookcount.head())"
   ],
   "metadata": {
    "colab": {
     "base_uri": "https://localhost:8080/"
    },
    "id": "lbpdQROiw6fN",
    "outputId": "ee6fc4d7-0962-4104-f42c-e187f40f5369"
   },
   "execution_count": null,
   "outputs": [
    {
     "output_type": "stream",
     "name": "stdout",
     "text": [
      "          user_id\n",
      "book_id          \n",
      "1000059       180\n",
      "1000392       711\n",
      "1000846       148\n",
      "100094        191\n",
      "10021402      193\n"
     ]
    }
   ]
  },
  {
   "cell_type": "code",
   "source": [
    "reviews = reviews[reviews[\"user_id\"].isin(usercount.index) & reviews[\"book_id\"].isin(bookcount.index)]\n",
    "print(reviews)"
   ],
   "metadata": {
    "colab": {
     "base_uri": "https://localhost:8080/"
    },
    "id": "Y9Bc398BxONt",
    "outputId": "cb3c5a2c-52f3-4063-b5e5-93492203037a"
   },
   "execution_count": null,
   "outputs": [
    {
     "output_type": "stream",
     "name": "stdout",
     "text": [
      "                                  user_id   book_id  rating\n",
      "117      4980305f36ab8c2ab831e401a185f28a  13573616       5\n",
      "119      4980305f36ab8c2ab831e401a185f28a  12712367       5\n",
      "120      4980305f36ab8c2ab831e401a185f28a  12309315       5\n",
      "122      4980305f36ab8c2ab831e401a185f28a  11297580       5\n",
      "128      4980305f36ab8c2ab831e401a185f28a  21412000       5\n",
      "...                                   ...       ...     ...\n",
      "4686069  98f60eac2d71abd2956f93de2f8c4e9d  26138086       2\n",
      "4686073  98f60eac2d71abd2956f93de2f8c4e9d   7703037       4\n",
      "4686077  98f60eac2d71abd2956f93de2f8c4e9d  22718721       3\n",
      "4686078  98f60eac2d71abd2956f93de2f8c4e9d  26067594       4\n",
      "4686083  98f60eac2d71abd2956f93de2f8c4e9d     52367       1\n",
      "\n",
      "[1495009 rows x 3 columns]\n"
     ]
    }
   ]
  },
  {
   "cell_type": "code",
   "source": [
    "reviews.to_csv('BookReviews.csv', index=False)"
   ],
   "metadata": {
    "id": "_uoaPp073EGU"
   },
   "execution_count": null,
   "outputs": []
  }
 ]
}
