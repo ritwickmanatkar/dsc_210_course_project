{
 "cells": [
  {
   "cell_type": "code",
   "execution_count": 1,
   "id": "9241023b-8522-43c7-84ea-56bb9f6084ac",
   "metadata": {},
   "outputs": [
    {
     "name": "stderr",
     "output_type": "stream",
     "text": [
      "/Library/Frameworks/Python.framework/Versions/3.9/lib/python3.9/site-packages/scipy/__init__.py:146: UserWarning: A NumPy version >=1.16.5 and <1.23.0 is required for this version of SciPy (detected version 1.26.2\n",
      "  warnings.warn(f\"A NumPy version >={np_minversion} and <{np_maxversion}\"\n",
      "2023-11-26 13:07:23.425146: I tensorflow/core/platform/cpu_feature_guard.cc:182] This TensorFlow binary is optimized to use available CPU instructions in performance-critical operations.\n",
      "To enable the following instructions: AVX2 FMA, in other operations, rebuild TensorFlow with the appropriate compiler flags.\n"
     ]
    }
   ],
   "source": [
    "import os\n",
    "\n",
    "# data science imports\n",
    "import numpy as np\n",
    "import pandas as pd\n",
    "\n",
    "# sklearn imports\n",
    "from sklearn.model_selection import train_test_split\n",
    "\n",
    "# keras/tensorflow imports\n",
    "from tensorflow.keras.layers import Input, Embedding, Flatten, Dense, Multiply, Concatenate\n",
    "from tensorflow.keras.regularizers import l2\n",
    "from tensorflow.keras.models import Model\n",
    "# from tensorflow.keras.optimizers import Adagrad, Adam, SGD, RMSprop\n",
    "from tensorflow.keras.callbacks import EarlyStopping, ModelCheckpoint\n",
    "import tensorflow.keras.backend as K\n",
    "from tensorflow.keras.models import load_model\n",
    "\n",
    "# visualization imports\n",
    "import matplotlib.pyplot as plt\n",
    "%matplotlib inline"
   ]
  },
  {
   "cell_type": "code",
   "execution_count": 2,
   "id": "147d3af8-abd9-4e21-9059-b98c6eb65773",
   "metadata": {},
   "outputs": [],
   "source": [
    "# path config\n",
    "data_path = \"./Desktop/210_RS/\"\n",
    "data_filename = \"BookReviews.csv\"\n",
    "df_ratings = pd.read_csv(data_path+data_filename)"
   ]
  },
  {
   "cell_type": "code",
   "execution_count": 3,
   "id": "49312444-d5ea-4406-b7d0-79465488141d",
   "metadata": {},
   "outputs": [
    {
     "name": "stdout",
     "output_type": "stream",
     "text": [
      "<class 'pandas.core.frame.DataFrame'>\n",
      "RangeIndex: 1495009 entries, 0 to 1495008\n",
      "Data columns (total 3 columns):\n",
      " #   Column   Non-Null Count    Dtype \n",
      "---  ------   --------------    ----- \n",
      " 0   user_id  1495009 non-null  object\n",
      " 1   book_id  1495009 non-null  int64 \n",
      " 2   rating   1495009 non-null  int64 \n",
      "dtypes: int64(2), object(1)\n",
      "memory usage: 34.2+ MB\n"
     ]
    }
   ],
   "source": [
    "# df_ratings.head(n=5)\n",
    "# df_ratings.info()\n",
    "df_books = df_ratings[[\"user_id\", \"book_id\", \"rating\"]]\n",
    "df_books.info()"
   ]
  },
  {
   "cell_type": "code",
   "execution_count": 4,
   "id": "eb4aad3a-1429-4921-8447-8547f901ed25",
   "metadata": {},
   "outputs": [],
   "source": [
    "num_user = len(df_books[\"user_id\"].unique())\n",
    "num_book = len(df_books[\"book_id\"].unique())"
   ]
  },
  {
   "cell_type": "markdown",
   "id": "5ddf4f4b-72a0-4732-94e1-58092222625c",
   "metadata": {},
   "source": [
    "### turn user_id and book_id type from object to int64"
   ]
  },
  {
   "cell_type": "code",
   "execution_count": 5,
   "id": "6a2989c1-a057-4f2a-952c-696153cfbffa",
   "metadata": {},
   "outputs": [],
   "source": [
    "user_id_int = np.arange(num_user)\n",
    "book_id_int = np.arange(num_book)\n",
    "\n",
    "user_id_dict = dict(zip(df_books[\"user_id\"].unique(), user_id_int))\n",
    "book_id_dict = dict(zip(df_books[\"book_id\"].unique(), book_id_int))\n",
    "\n",
    "df_books[\"user_id_int\"] = [user_id_dict[ df_books[\"user_id\"].iloc[i] ] for i in range(len(df_books))]\n",
    "df_books[\"book_id_int\"] = [book_id_dict[ df_books[\"book_id\"].iloc[i] ] for i in range(len(df_books))]"
   ]
  },
  {
   "cell_type": "code",
   "execution_count": 6,
   "id": "0f6bfb6a-f047-4e73-8e38-0628a72dd941",
   "metadata": {},
   "outputs": [],
   "source": [
    "df_books = df_books.drop(\"user_id\", axis=1)\n",
    "df_books = df_books.drop(\"book_id\", axis=1)\n",
    "\n",
    "df_books.rename(columns={'user_id_int': 'user_id'}, inplace=True)\n",
    "df_books.rename(columns={'book_id_int': 'book_id'}, inplace=True)\n"
   ]
  },
  {
   "cell_type": "markdown",
   "id": "3fab5c1c-f84b-41a3-8c33-d2737ba5aeb3",
   "metadata": {},
   "source": [
    "## Split data into training and testing"
   ]
  },
  {
   "cell_type": "code",
   "execution_count": 7,
   "id": "76852ee8-abd6-4ef9-b751-5f7a66f0f5c9",
   "metadata": {},
   "outputs": [
    {
     "name": "stdout",
     "output_type": "stream",
     "text": [
      "shape of training data set:\n",
      "(1196007, 3)\n",
      "shape of test data set:\n",
      "(299002, 3)\n"
     ]
    }
   ],
   "source": [
    "df_train, df_test = train_test_split(df_books, test_size=0.20, shuffle=True, random_state=45)\n",
    "print('shape of training data set:')\n",
    "print(df_train.shape)\n",
    "print('shape of test data set:')\n",
    "print(df_test.shape)"
   ]
  },
  {
   "cell_type": "markdown",
   "id": "cb4d6b35-d775-43bd-80c7-61408b2e8ebd",
   "metadata": {},
   "source": [
    "## GME model"
   ]
  },
  {
   "cell_type": "code",
   "execution_count": 8,
   "id": "4a085fef-bc8a-4e9a-9a79-1b03e31cab70",
   "metadata": {},
   "outputs": [],
   "source": [
    "def get_GMF_model(num_users, num_items, latent_dim, vu_reg, vi_reg):\n",
    "    \"\"\"\n",
    "    Build Generalized Matrix Factorization Model Topology\n",
    "    \n",
    "    Parameters\n",
    "    ----------\n",
    "    num_users: int, total number of users\n",
    "    num_iterms: int, total number of items\n",
    "    latent_dim: int, embedded dimension for user vector and item vector\n",
    "    vu_reg: float, L2 regularization of user embedded layer\n",
    "    vi_reg: float, L2 regularization of item embedded layer\n",
    "\n",
    "    Return\n",
    "    ------\n",
    "    A Keras Model with GMF model architeture\n",
    "    \"\"\"\n",
    "    # Input variables\n",
    "    user_input = Input(shape=(1,), dtype='int32', name='user_input')\n",
    "    item_input = Input(shape=(1,), dtype='int64', name='book_input')\n",
    "\n",
    "    MF_Embedding_User = Embedding(\n",
    "        input_dim=num_users + 1,\n",
    "        output_dim=latent_dim,\n",
    "        embeddings_initializer='uniform',\n",
    "        name='user_embedding',\n",
    "        embeddings_regularizer=l2(vu_reg),\n",
    "        input_length=1)\n",
    "    MF_Embedding_Item = Embedding(\n",
    "        input_dim=num_items + 1,\n",
    "        output_dim=latent_dim,\n",
    "        embeddings_initializer='uniform',\n",
    "        name='item_embedding',\n",
    "        embeddings_regularizer=l2(vi_reg),\n",
    "        input_length=1) \n",
    "    \n",
    "    # Crucial to flatten an embedding vector!\n",
    "    user_latent = Flatten()(MF_Embedding_User(user_input))\n",
    "    item_latent = Flatten()(MF_Embedding_Item(item_input))\n",
    "\n",
    "    # Element-wise product of user and item embeddings \n",
    "    predict_vector = Multiply()([user_latent, item_latent])\n",
    "    \n",
    "    # Final prediction layer\n",
    "    prediction = Dense(1, kernel_initializer='glorot_uniform', name='prediction')(predict_vector)\n",
    "    \n",
    "    # Stitch input and output\n",
    "    model = Model([user_input, item_input], prediction)\n",
    "    \n",
    "    return model\n",
    "\n",
    "\n",
    "def train_model(model, learner, batch_size, epochs, val_split, inputs, outputs):\n",
    "    \"\"\"\n",
    "    define training routine, train models and save best model\n",
    "    \n",
    "    Parameters\n",
    "    ----------\n",
    "    model: a Keras model\n",
    "    learner: str, one of ['sgd', 'adam', 'rmsprop', 'adagrad']\n",
    "    batch_size: num samples per update\n",
    "    epochs: num iterations\n",
    "    val_split: split ratio for validation data\n",
    "    inputs: inputs data\n",
    "    outputs: outputs data\n",
    "    \"\"\"\n",
    "    # add customized metric\n",
    "    def rmse(y_true, y_pred):\n",
    "        return K.sqrt(K.mean(K.square(y_true - y_pred)))\n",
    "    \n",
    "    # compile model\n",
    "    model.compile(optimizer=learner.lower(), loss='mean_squared_error', metrics=['mean_squared_error', rmse])\n",
    "    \n",
    "    # add call backs\n",
    "    early_stopper = EarlyStopping(monitor='val_rmse', patience=10, verbose=1)\n",
    "    model_saver = ModelCheckpoint(filepath=os.path.join(data_path, 'tmp/model.hdf5'),\n",
    "                                  monitor='val_rmse',\n",
    "                                  save_best_only=True,\n",
    "                                  save_weights_only=True)\n",
    "    # train model\n",
    "    history = model.fit(inputs, outputs,\n",
    "                        batch_size=batch_size,\n",
    "                        epochs=epochs,\n",
    "                        validation_split=val_split,\n",
    "                        callbacks=[early_stopper, model_saver])\n",
    "    return history\n",
    "\n",
    "\n",
    "def load_trained_model(model, weights_path):\n",
    "    model.load_weights(weights_path)\n",
    "    return model"
   ]
  },
  {
   "cell_type": "code",
   "execution_count": 9,
   "id": "62ae365b-0683-406c-8168-8b381a6401f7",
   "metadata": {},
   "outputs": [
    {
     "name": "stdout",
     "output_type": "stream",
     "text": [
      "Model: \"model\"\n",
      "__________________________________________________________________________________________________\n",
      " Layer (type)                Output Shape                 Param #   Connected to                  \n",
      "==================================================================================================\n",
      " user_input (InputLayer)     [(None, 1)]                  0         []                            \n",
      "                                                                                                  \n",
      " book_input (InputLayer)     [(None, 1)]                  0         []                            \n",
      "                                                                                                  \n",
      " user_embedding (Embedding)  (None, 1, 6)                 52374     ['user_input[0][0]']          \n",
      "                                                                                                  \n",
      " item_embedding (Embedding)  (None, 1, 6)                 46740     ['book_input[0][0]']          \n",
      "                                                                                                  \n",
      " flatten (Flatten)           (None, 6)                    0         ['user_embedding[0][0]']      \n",
      "                                                                                                  \n",
      " flatten_1 (Flatten)         (None, 6)                    0         ['item_embedding[0][0]']      \n",
      "                                                                                                  \n",
      " multiply (Multiply)         (None, 6)                    0         ['flatten[0][0]',             \n",
      "                                                                     'flatten_1[0][0]']           \n",
      "                                                                                                  \n",
      " prediction (Dense)          (None, 1)                    7         ['multiply[0][0]']            \n",
      "                                                                                                  \n",
      "==================================================================================================\n",
      "Total params: 99121 (387.19 KB)\n",
      "Trainable params: 99121 (387.19 KB)\n",
      "Non-trainable params: 0 (0.00 Byte)\n",
      "__________________________________________________________________________________________________\n"
     ]
    }
   ],
   "source": [
    "latent_dim = 6\n",
    "GMF_model = get_GMF_model(num_user, num_book, latent_dim, 0, 0)\n",
    "GMF_model.summary()"
   ]
  },
  {
   "cell_type": "code",
   "execution_count": 10,
   "id": "b5875845-3f2a-435a-8ca5-d5fe19b893f2",
   "metadata": {},
   "outputs": [
    {
     "name": "stdout",
     "output_type": "stream",
     "text": [
      "Epoch 1/30\n",
      "29901/29901 [==============================] - 43s 1ms/step - loss: 1.5011 - mean_squared_error: 1.5011 - rmse: 1.0292 - val_loss: 0.5877 - val_mean_squared_error: 0.5877 - val_rmse: 0.7583\n",
      "Epoch 2/30\n",
      "29901/29901 [==============================] - 43s 1ms/step - loss: 0.5424 - mean_squared_error: 0.5424 - rmse: 0.7276 - val_loss: 0.5473 - val_mean_squared_error: 0.5473 - val_rmse: 0.7311\n",
      "Epoch 3/30\n",
      "29901/29901 [==============================] - 43s 1ms/step - loss: 0.5051 - mean_squared_error: 0.5051 - rmse: 0.7017 - val_loss: 0.5351 - val_mean_squared_error: 0.5351 - val_rmse: 0.7225\n",
      "Epoch 4/30\n",
      "29901/29901 [==============================] - 43s 1ms/step - loss: 0.4877 - mean_squared_error: 0.4877 - rmse: 0.6892 - val_loss: 0.5308 - val_mean_squared_error: 0.5308 - val_rmse: 0.7194\n",
      "Epoch 5/30\n",
      "29901/29901 [==============================] - 43s 1ms/step - loss: 0.4765 - mean_squared_error: 0.4765 - rmse: 0.6813 - val_loss: 0.5278 - val_mean_squared_error: 0.5278 - val_rmse: 0.7173\n",
      "Epoch 6/30\n",
      "29901/29901 [==============================] - 43s 1ms/step - loss: 0.4691 - mean_squared_error: 0.4691 - rmse: 0.6760 - val_loss: 0.5261 - val_mean_squared_error: 0.5261 - val_rmse: 0.7160\n",
      "Epoch 7/30\n",
      "29901/29901 [==============================] - 43s 1ms/step - loss: 0.4632 - mean_squared_error: 0.4632 - rmse: 0.6715 - val_loss: 0.5247 - val_mean_squared_error: 0.5247 - val_rmse: 0.7150\n",
      "Epoch 8/30\n",
      "29901/29901 [==============================] - 43s 1ms/step - loss: 0.4589 - mean_squared_error: 0.4589 - rmse: 0.6682 - val_loss: 0.5248 - val_mean_squared_error: 0.5248 - val_rmse: 0.7152\n",
      "Epoch 9/30\n",
      "29901/29901 [==============================] - 43s 1ms/step - loss: 0.4554 - mean_squared_error: 0.4554 - rmse: 0.6655 - val_loss: 0.5248 - val_mean_squared_error: 0.5248 - val_rmse: 0.7150\n",
      "Epoch 10/30\n",
      "29901/29901 [==============================] - 43s 1ms/step - loss: 0.4522 - mean_squared_error: 0.4522 - rmse: 0.6633 - val_loss: 0.5239 - val_mean_squared_error: 0.5239 - val_rmse: 0.7144\n",
      "Epoch 11/30\n",
      "29901/29901 [==============================] - 44s 1ms/step - loss: 0.4497 - mean_squared_error: 0.4497 - rmse: 0.6614 - val_loss: 0.5238 - val_mean_squared_error: 0.5238 - val_rmse: 0.7142\n",
      "Epoch 12/30\n",
      "29901/29901 [==============================] - 44s 1ms/step - loss: 0.4476 - mean_squared_error: 0.4476 - rmse: 0.6599 - val_loss: 0.5243 - val_mean_squared_error: 0.5243 - val_rmse: 0.7145\n",
      "Epoch 13/30\n",
      "29901/29901 [==============================] - 43s 1ms/step - loss: 0.4458 - mean_squared_error: 0.4458 - rmse: 0.6584 - val_loss: 0.5238 - val_mean_squared_error: 0.5238 - val_rmse: 0.7143\n",
      "Epoch 14/30\n",
      "29901/29901 [==============================] - 43s 1ms/step - loss: 0.4441 - mean_squared_error: 0.4441 - rmse: 0.6571 - val_loss: 0.5230 - val_mean_squared_error: 0.5230 - val_rmse: 0.7136\n",
      "Epoch 15/30\n",
      "29901/29901 [==============================] - 43s 1ms/step - loss: 0.4426 - mean_squared_error: 0.4426 - rmse: 0.6561 - val_loss: 0.5245 - val_mean_squared_error: 0.5245 - val_rmse: 0.7145\n",
      "Epoch 16/30\n",
      "29901/29901 [==============================] - 43s 1ms/step - loss: 0.4413 - mean_squared_error: 0.4413 - rmse: 0.6550 - val_loss: 0.5252 - val_mean_squared_error: 0.5252 - val_rmse: 0.7150\n",
      "Epoch 17/30\n",
      "29901/29901 [==============================] - 43s 1ms/step - loss: 0.4401 - mean_squared_error: 0.4401 - rmse: 0.6541 - val_loss: 0.5233 - val_mean_squared_error: 0.5233 - val_rmse: 0.7138\n",
      "Epoch 18/30\n",
      "29901/29901 [==============================] - 43s 1ms/step - loss: 0.4391 - mean_squared_error: 0.4391 - rmse: 0.6533 - val_loss: 0.5248 - val_mean_squared_error: 0.5248 - val_rmse: 0.7147\n",
      "Epoch 19/30\n",
      "29901/29901 [==============================] - 43s 1ms/step - loss: 0.4381 - mean_squared_error: 0.4381 - rmse: 0.6525 - val_loss: 0.5230 - val_mean_squared_error: 0.5230 - val_rmse: 0.7136\n",
      "Epoch 20/30\n",
      "29901/29901 [==============================] - 44s 1ms/step - loss: 0.4372 - mean_squared_error: 0.4372 - rmse: 0.6518 - val_loss: 0.5232 - val_mean_squared_error: 0.5232 - val_rmse: 0.7138\n",
      "Epoch 21/30\n",
      "29901/29901 [==============================] - 43s 1ms/step - loss: 0.4364 - mean_squared_error: 0.4364 - rmse: 0.6513 - val_loss: 0.5234 - val_mean_squared_error: 0.5234 - val_rmse: 0.7139\n",
      "Epoch 22/30\n",
      "29901/29901 [==============================] - 43s 1ms/step - loss: 0.4356 - mean_squared_error: 0.4356 - rmse: 0.6507 - val_loss: 0.5258 - val_mean_squared_error: 0.5258 - val_rmse: 0.7153\n",
      "Epoch 23/30\n",
      "29901/29901 [==============================] - 43s 1ms/step - loss: 0.4349 - mean_squared_error: 0.4349 - rmse: 0.6502 - val_loss: 0.5269 - val_mean_squared_error: 0.5269 - val_rmse: 0.7159\n",
      "Epoch 24/30\n",
      "29901/29901 [==============================] - 44s 1ms/step - loss: 0.4343 - mean_squared_error: 0.4343 - rmse: 0.6497 - val_loss: 0.5254 - val_mean_squared_error: 0.5254 - val_rmse: 0.7151\n",
      "Epoch 25/30\n",
      "29901/29901 [==============================] - 44s 1ms/step - loss: 0.4337 - mean_squared_error: 0.4337 - rmse: 0.6492 - val_loss: 0.5246 - val_mean_squared_error: 0.5246 - val_rmse: 0.7146\n",
      "Epoch 26/30\n",
      "29901/29901 [==============================] - 44s 1ms/step - loss: 0.4331 - mean_squared_error: 0.4331 - rmse: 0.6488 - val_loss: 0.5261 - val_mean_squared_error: 0.5261 - val_rmse: 0.7154\n",
      "Epoch 27/30\n",
      "29901/29901 [==============================] - 43s 1ms/step - loss: 0.4326 - mean_squared_error: 0.4326 - rmse: 0.6484 - val_loss: 0.5256 - val_mean_squared_error: 0.5256 - val_rmse: 0.7152\n",
      "Epoch 28/30\n",
      "29901/29901 [==============================] - 44s 1ms/step - loss: 0.4322 - mean_squared_error: 0.4322 - rmse: 0.6479 - val_loss: 0.5252 - val_mean_squared_error: 0.5252 - val_rmse: 0.7150\n",
      "Epoch 29/30\n",
      "29901/29901 [==============================] - 44s 1ms/step - loss: 0.4317 - mean_squared_error: 0.4317 - rmse: 0.6477 - val_loss: 0.5260 - val_mean_squared_error: 0.5260 - val_rmse: 0.7156\n",
      "Epoch 29: early stopping\n"
     ]
    }
   ],
   "source": [
    "# model config\n",
    "BATCH_SIZE = 32\n",
    "EPOCHS = 30\n",
    "VAL_SPLIT = 0.20\n",
    "\n",
    "# train model\n",
    "history = train_model(GMF_model, 'adam', BATCH_SIZE, EPOCHS, VAL_SPLIT, \n",
    "                      inputs=[df_train.user_id.values, df_train.book_id.values],\n",
    "                      outputs=df_train.rating.values)"
   ]
  },
  {
   "cell_type": "code",
   "execution_count": 15,
   "id": "45128069-c587-43a2-b703-8e38cac65cdc",
   "metadata": {},
   "outputs": [],
   "source": [
    "def plot_learning_curve(history, metric):\n",
    "    \"\"\"\n",
    "    Plot learning curve to compare training error vs. validation error\n",
    "    \"\"\"\n",
    "    # get training error\n",
    "    errors = history.history[metric]\n",
    "    # get validation error\n",
    "    val_errors = history.history['val_{}'.format(metric)]\n",
    "    # get epochs\n",
    "    epochs = range(1, len(errors) + 1)\n",
    "\n",
    "    # plot\n",
    "    plt.figure(figsize=(12, 7))\n",
    "    plt.plot(epochs, errors, 'bo', label='training {}'.format(metric))\n",
    "    plt.plot(epochs, val_errors, 'b', label='validation {}'.format(metric))\n",
    "    plt.xlabel('number of epochs')\n",
    "    plt.ylabel(metric)\n",
    "    plt.title('Model Learning Curve')\n",
    "    plt.grid(True)\n",
    "    plt.legend()\n",
    "    plt.show()\n",
    "# plot_learning_curve(history, 'rmse')\n"
   ]
  },
  {
   "cell_type": "code",
   "execution_count": 12,
   "id": "f7e0a4f8-544d-4601-bda1-1684879a3744",
   "metadata": {},
   "outputs": [],
   "source": [
    "# define rmse function\n",
    "rmse = lambda true, pred: np.sqrt(np.mean(np.square(np.squeeze(predictions1) - np.squeeze(df_test.rating.values))))"
   ]
  },
  {
   "cell_type": "code",
   "execution_count": 13,
   "id": "cdd4283b-477d-46b4-a11d-4f6cf1fa89f0",
   "metadata": {},
   "outputs": [
    {
     "name": "stdout",
     "output_type": "stream",
     "text": [
      "9344/9344 [==============================] - 6s 665us/step\n",
      "The out-of-sample RMSE of rating predictions is 0.7219\n"
     ]
    }
   ],
   "source": [
    "# load best model\n",
    "GMF_model = get_GMF_model(num_user, num_book, latent_dim, 0, 0)\n",
    "GMF_model = load_trained_model(GMF_model, os.path.join(data_path, 'tmp/model.hdf5'))\n",
    "# make prediction using test data\n",
    "predictions1 = GMF_model.predict([df_test.user_id.values, df_test.book_id.values])\n",
    "# get the RMSE\n",
    "error1 = rmse(df_test.rating.values, predictions1)\n",
    "print('The out-of-sample RMSE of rating predictions is', round(error1, 4))"
   ]
  },
  {
   "cell_type": "markdown",
   "id": "928debd6-8422-435b-a3b4-07832be2e0ae",
   "metadata": {},
   "source": [
    "## MLP model"
   ]
  },
  {
   "cell_type": "code",
   "execution_count": 9,
   "id": "d6a0cc39-ada9-4f9d-9bbe-7c4557f435d9",
   "metadata": {},
   "outputs": [],
   "source": [
    "def get_MLP_model(num_users, num_items, layers, reg_layers):\n",
    "    \"\"\"\n",
    "    Build Multi-Layer Perceptron Model Topology\n",
    "    \n",
    "    Parameters\n",
    "    ----------\n",
    "    num_users: int, total number of users\n",
    "    num_iterms: int, total number of items\n",
    "    layers: list of int, each element is the number of hidden units for each layer,\n",
    "        with the exception of first element. First element is the sum of dims of\n",
    "        user latent vector and item latent vector\n",
    "    reg_layers: list of int, each element is the L2 regularization parameter for\n",
    "        each layer in MLP\n",
    "\n",
    "    Return\n",
    "    ------\n",
    "    A Keras Model with MLP model architeture\n",
    "    \"\"\"\n",
    "    assert len(layers) == len(reg_layers)\n",
    "    num_layer = len(layers) # Number of layers in the MLP\n",
    "    # Input variables\n",
    "    user_input = Input(shape=(1,), dtype='int32', name='user_input')\n",
    "    item_input = Input(shape=(1,), dtype='int32', name='item_input')\n",
    "\n",
    "    MLP_Embedding_User = Embedding(\n",
    "        input_dim=num_users + 1,\n",
    "        output_dim=layers[0] // 2,\n",
    "        embeddings_initializer='uniform',\n",
    "        name='user_embedding',\n",
    "        embeddings_regularizer=l2(reg_layers[0]),\n",
    "        input_length=1)\n",
    "    MLP_Embedding_Item = Embedding(\n",
    "        input_dim=num_items + 1,\n",
    "        output_dim=layers[0] // 2,\n",
    "        embeddings_initializer='uniform',\n",
    "        name='item_embedding',\n",
    "        embeddings_regularizer=l2(reg_layers[0]),\n",
    "        input_length=1) \n",
    "    \n",
    "    # Crucial to flatten an embedding vector!\n",
    "    user_latent = Flatten()(MLP_Embedding_User(user_input))\n",
    "    item_latent = Flatten()(MLP_Embedding_Item(item_input))\n",
    "\n",
    "    # The 0-th layer is the concatenation of embedding layers\n",
    "    vector = Concatenate(axis=-1)([user_latent, item_latent])\n",
    "\n",
    "    # MLP layers\n",
    "    for idx in range(1, num_layer):\n",
    "        layer = Dense(\n",
    "            units=layers[idx],\n",
    "            activation='relu',\n",
    "            kernel_initializer='glorot_uniform',\n",
    "            kernel_regularizer=l2(reg_layers[idx]),\n",
    "            name = 'layer%d' %idx)\n",
    "        vector = layer(vector)\n",
    "    \n",
    "    # Final prediction layer\n",
    "    prediction = Dense(1, kernel_initializer='glorot_uniform', name='prediction')(vector)\n",
    "    \n",
    "    # Stitch input and output\n",
    "    model = Model([user_input, item_input], prediction)\n",
    "    \n",
    "    return model"
   ]
  },
  {
   "cell_type": "code",
   "execution_count": 15,
   "id": "404043f3-16c8-49a5-8ca2-b689329503c1",
   "metadata": {},
   "outputs": [
    {
     "name": "stdout",
     "output_type": "stream",
     "text": [
      "Model: \"model_2\"\n",
      "__________________________________________________________________________________________________\n",
      " Layer (type)                Output Shape                 Param #   Connected to                  \n",
      "==================================================================================================\n",
      " user_input (InputLayer)     [(None, 1)]                  0         []                            \n",
      "                                                                                                  \n",
      " item_input (InputLayer)     [(None, 1)]                  0         []                            \n",
      "                                                                                                  \n",
      " user_embedding (Embedding)  (None, 1, 16)                139664    ['user_input[0][0]']          \n",
      "                                                                                                  \n",
      " item_embedding (Embedding)  (None, 1, 16)                124640    ['item_input[0][0]']          \n",
      "                                                                                                  \n",
      " flatten_4 (Flatten)         (None, 16)                   0         ['user_embedding[0][0]']      \n",
      "                                                                                                  \n",
      " flatten_5 (Flatten)         (None, 16)                   0         ['item_embedding[0][0]']      \n",
      "                                                                                                  \n",
      " concatenate (Concatenate)   (None, 32)                   0         ['flatten_4[0][0]',           \n",
      "                                                                     'flatten_5[0][0]']           \n",
      "                                                                                                  \n",
      " layer1 (Dense)              (None, 16)                   528       ['concatenate[0][0]']         \n",
      "                                                                                                  \n",
      " layer2 (Dense)              (None, 8)                    136       ['layer1[0][0]']              \n",
      "                                                                                                  \n",
      " prediction (Dense)          (None, 1)                    9         ['layer2[0][0]']              \n",
      "                                                                                                  \n",
      "==================================================================================================\n",
      "Total params: 264977 (1.01 MB)\n",
      "Trainable params: 264977 (1.01 MB)\n",
      "Non-trainable params: 0 (0.00 Byte)\n",
      "__________________________________________________________________________________________________\n"
     ]
    }
   ],
   "source": [
    "MLP_model = get_MLP_model(num_user, num_book, [32, 16, 8], [0, 0, 0])\n",
    "MLP_model.summary()"
   ]
  },
  {
   "cell_type": "code",
   "execution_count": 16,
   "id": "ca77f6a4-37df-4af1-b498-891afe316b09",
   "metadata": {},
   "outputs": [
    {
     "name": "stdout",
     "output_type": "stream",
     "text": [
      "Epoch 1/30\n",
      "29901/29901 [==============================] - 64s 2ms/step - loss: 0.6547 - mean_squared_error: 0.6547 - rmse: 0.7784 - val_loss: 0.5707 - val_mean_squared_error: 0.5707 - val_rmse: 0.7468\n",
      "Epoch 2/30\n",
      "29901/29901 [==============================] - 63s 2ms/step - loss: 0.5526 - mean_squared_error: 0.5526 - rmse: 0.7346 - val_loss: 0.5537 - val_mean_squared_error: 0.5537 - val_rmse: 0.7357\n",
      "Epoch 3/30\n",
      "29901/29901 [==============================] - 63s 2ms/step - loss: 0.5350 - mean_squared_error: 0.5350 - rmse: 0.7225 - val_loss: 0.5434 - val_mean_squared_error: 0.5434 - val_rmse: 0.7283\n",
      "Epoch 4/30\n",
      "29901/29901 [==============================] - 63s 2ms/step - loss: 0.5183 - mean_squared_error: 0.5183 - rmse: 0.7109 - val_loss: 0.5398 - val_mean_squared_error: 0.5398 - val_rmse: 0.7254\n",
      "Epoch 5/30\n",
      "29901/29901 [==============================] - 63s 2ms/step - loss: 0.5024 - mean_squared_error: 0.5024 - rmse: 0.6999 - val_loss: 0.5311 - val_mean_squared_error: 0.5311 - val_rmse: 0.7198\n",
      "Epoch 6/30\n",
      "29901/29901 [==============================] - 66s 2ms/step - loss: 0.4885 - mean_squared_error: 0.4885 - rmse: 0.6899 - val_loss: 0.5292 - val_mean_squared_error: 0.5292 - val_rmse: 0.7183\n",
      "Epoch 7/30\n",
      "29901/29901 [==============================] - 66s 2ms/step - loss: 0.4761 - mean_squared_error: 0.4761 - rmse: 0.6809 - val_loss: 0.5240 - val_mean_squared_error: 0.5240 - val_rmse: 0.7149\n",
      "Epoch 8/30\n",
      "29901/29901 [==============================] - 68s 2ms/step - loss: 0.4647 - mean_squared_error: 0.4647 - rmse: 0.6723 - val_loss: 0.5244 - val_mean_squared_error: 0.5244 - val_rmse: 0.7153\n",
      "Epoch 9/30\n",
      "29901/29901 [==============================] - 67s 2ms/step - loss: 0.4546 - mean_squared_error: 0.4546 - rmse: 0.6651 - val_loss: 0.5233 - val_mean_squared_error: 0.5233 - val_rmse: 0.7143\n",
      "Epoch 10/30\n",
      "29901/29901 [==============================] - 66s 2ms/step - loss: 0.4459 - mean_squared_error: 0.4459 - rmse: 0.6585 - val_loss: 0.5310 - val_mean_squared_error: 0.5310 - val_rmse: 0.7204\n",
      "Epoch 11/30\n",
      "29901/29901 [==============================] - 66s 2ms/step - loss: 0.4375 - mean_squared_error: 0.4375 - rmse: 0.6522 - val_loss: 0.5355 - val_mean_squared_error: 0.5355 - val_rmse: 0.7235\n",
      "Epoch 12/30\n",
      "29901/29901 [==============================] - 66s 2ms/step - loss: 0.4302 - mean_squared_error: 0.4302 - rmse: 0.6464 - val_loss: 0.5237 - val_mean_squared_error: 0.5237 - val_rmse: 0.7144\n",
      "Epoch 13/30\n",
      "29901/29901 [==============================] - 66s 2ms/step - loss: 0.4234 - mean_squared_error: 0.4234 - rmse: 0.6413 - val_loss: 0.5262 - val_mean_squared_error: 0.5262 - val_rmse: 0.7159\n",
      "Epoch 14/30\n",
      "29901/29901 [==============================] - 66s 2ms/step - loss: 0.4171 - mean_squared_error: 0.4171 - rmse: 0.6364 - val_loss: 0.5255 - val_mean_squared_error: 0.5255 - val_rmse: 0.7154\n",
      "Epoch 15/30\n",
      "29901/29901 [==============================] - 67s 2ms/step - loss: 0.4114 - mean_squared_error: 0.4114 - rmse: 0.6319 - val_loss: 0.5285 - val_mean_squared_error: 0.5285 - val_rmse: 0.7174\n",
      "Epoch 16/30\n",
      "29901/29901 [==============================] - 68s 2ms/step - loss: 0.4060 - mean_squared_error: 0.4060 - rmse: 0.6276 - val_loss: 0.5352 - val_mean_squared_error: 0.5352 - val_rmse: 0.7227\n",
      "Epoch 17/30\n",
      "29901/29901 [==============================] - 64s 2ms/step - loss: 0.4010 - mean_squared_error: 0.4010 - rmse: 0.6236 - val_loss: 0.5354 - val_mean_squared_error: 0.5354 - val_rmse: 0.7227\n",
      "Epoch 18/30\n",
      "29901/29901 [==============================] - 65s 2ms/step - loss: 0.3965 - mean_squared_error: 0.3965 - rmse: 0.6202 - val_loss: 0.5298 - val_mean_squared_error: 0.5298 - val_rmse: 0.7184\n",
      "Epoch 19/30\n",
      "29901/29901 [==============================] - 64s 2ms/step - loss: 0.3921 - mean_squared_error: 0.3921 - rmse: 0.6166 - val_loss: 0.5391 - val_mean_squared_error: 0.5391 - val_rmse: 0.7244\n",
      "Epoch 19: early stopping\n"
     ]
    }
   ],
   "source": [
    "# model config\n",
    "BATCH_SIZE = 32\n",
    "EPOCHS = 30\n",
    "VAL_SPLIT = 0.20\n",
    "\n",
    "# train model\n",
    "history = train_model(MLP_model, 'adam', BATCH_SIZE, EPOCHS, VAL_SPLIT, \n",
    "                      inputs=[df_train.user_id.values, df_train.book_id.values],\n",
    "                      outputs=df_train.rating.values)"
   ]
  },
  {
   "cell_type": "code",
   "execution_count": 17,
   "id": "b238056a-e12e-4209-bb29-f05f768f4557",
   "metadata": {},
   "outputs": [
    {
     "data": {
      "image/png": "[encoded data removed]",
      "text/plain": [
       "<Figure size 864x504 with 1 Axes>"
      ]
     },
     "metadata": {
      "needs_background": "light"
     },
     "output_type": "display_data"
    }
   ],
   "source": [
    "plot_learning_curve(history, 'rmse')"
   ]
  },
  {
   "cell_type": "code",
   "execution_count": 18,
   "id": "ae286bf6-7a07-41bc-932c-c7cecdfd63ba",
   "metadata": {},
   "outputs": [
    {
     "name": "stdout",
     "output_type": "stream",
     "text": [
      "9344/9344 [==============================] - 7s 726us/step\n",
      "The out-of-sample RMSE of rating predictions is 0.7245\n"
     ]
    }
   ],
   "source": [
    "# load best model\n",
    "MLP_model = get_MLP_model(num_user, num_book, [32, 16, 8], [0, 0, 0])\n",
    "MLP_model = load_trained_model(MLP_model, os.path.join(data_path, 'tmp/model.hdf5'))\n",
    "# make prediction using test data\n",
    "predictions2 = MLP_model.predict([df_test.user_id.values, df_test.book_id.values])\n",
    "# get the RMSE\n",
    "rmse = lambda true, pred: np.sqrt(np.mean(np.square(np.squeeze(predictions2) - np.squeeze(df_test.rating.values))))\n",
    "error2 = rmse(df_test.rating.values, predictions2)\n",
    "print('The out-of-sample RMSE of rating predictions is', round(error2, 4))\n"
   ]
  },
  {
   "cell_type": "markdown",
   "id": "d278b93a-d87a-4f3a-90b7-ffc7f0e21f22",
   "metadata": {},
   "source": [
    "## Train Neural Matrix Factorization (NeuMF) and Test Model"
   ]
  },
  {
   "cell_type": "code",
   "execution_count": 10,
   "id": "d7cf708f-a07c-476f-910c-2c4668f8ae47",
   "metadata": {},
   "outputs": [],
   "source": [
    "def get_NeuMF_model(num_users, num_items, MF_dim, MF_reg, MLP_layers, MLP_regs):\n",
    "    \"\"\"\n",
    "    Build Neural Matrix Factorization (NeuMF) Model Topology.\n",
    "    This is stack version of both GMF and MLP\n",
    "    \n",
    "    Parameters\n",
    "    ----------\n",
    "    num_users: int, total number of users\n",
    "    num_iterms: int, total number of items\n",
    "    MF_dim: int, embedded dimension for user vector and item vector in MF\n",
    "    MF_reg: tuple of float, L2 regularization of MF embedded layer\n",
    "    MLP_layers: list of int, each element is the number of hidden units for each MLP layer,\n",
    "        with the exception of first element. First element is the sum of dims of\n",
    "        user latent vector and item latent vector\n",
    "    MLP_regs: list of int, each element is the L2 regularization parameter for\n",
    "        each layer in MLP\n",
    "\n",
    "    Return\n",
    "    ------\n",
    "    A Keras Model with MLP model architeture\n",
    "    \"\"\"\n",
    "    assert len(MLP_layers) == len(MLP_regs)\n",
    "    num_MLP_layer = len(MLP_layers) # Number of layers in the MLP\n",
    "    # Input variables\n",
    "    user_input = Input(shape=(1,), dtype='int32', name='user_input')\n",
    "    item_input = Input(shape=(1,), dtype='int32', name='item_input')\n",
    "\n",
    "    # Embedding layer\n",
    "    \n",
    "    # MF\n",
    "    MF_Embedding_User = Embedding(\n",
    "        input_dim=num_users + 1,\n",
    "        output_dim=MF_dim,\n",
    "        embeddings_initializer='uniform',\n",
    "        name='mf_user_embedding',\n",
    "        embeddings_regularizer=l2(MF_reg[0]),\n",
    "        input_length=1)\n",
    "    MF_Embedding_Item = Embedding(\n",
    "        input_dim=num_items + 1,\n",
    "        output_dim=MF_dim,\n",
    "        embeddings_initializer='uniform',\n",
    "        name='mf_item_embedding',\n",
    "        embeddings_regularizer=l2(MF_reg[1]),\n",
    "        input_length=1)\n",
    "    \n",
    "    # MLP\n",
    "    MLP_Embedding_User = Embedding(\n",
    "        input_dim=num_users + 1,\n",
    "        output_dim=MLP_layers[0] // 2,\n",
    "        embeddings_initializer='uniform',\n",
    "        name='mlp_user_embedding',\n",
    "        embeddings_regularizer=l2(MLP_regs[0]),\n",
    "        input_length=1)\n",
    "    MLP_Embedding_Item = Embedding(\n",
    "        input_dim=num_items + 1,\n",
    "        output_dim=MLP_layers[0] // 2,\n",
    "        embeddings_initializer='uniform',\n",
    "        name='mlp_item_embedding',\n",
    "        embeddings_regularizer=l2(MLP_regs[0]),\n",
    "        input_length=1) \n",
    "    \n",
    "    # MF part\n",
    "    mf_user_latent = Flatten()(MF_Embedding_User(user_input))\n",
    "    mf_item_latent = Flatten()(MF_Embedding_Item(item_input))\n",
    "    mf_vector = Multiply()([mf_user_latent, mf_item_latent])\n",
    "\n",
    "    # MLP part\n",
    "    mlp_user_latent = Flatten()(MLP_Embedding_User(user_input))\n",
    "    mlp_item_latent = Flatten()(MLP_Embedding_Item(item_input))\n",
    "    mlp_vector = Concatenate(axis=-1)([mlp_user_latent, mlp_item_latent])\n",
    "    for idx in range(1, num_MLP_layer):\n",
    "        layer = Dense(\n",
    "            units=MLP_layers[idx],\n",
    "            activation='relu',\n",
    "            kernel_initializer='glorot_uniform',\n",
    "            kernel_regularizer=l2(MLP_regs[idx]),\n",
    "            name = 'layer%d' %idx)\n",
    "        mlp_vector = layer(mlp_vector)\n",
    "    \n",
    "    # Concatenate MF and MLP parts\n",
    "    predict_vector = Concatenate(axis=-1)([mf_vector, mlp_vector])\n",
    "\n",
    "    # Final prediction layer\n",
    "    prediction = Dense(1, kernel_initializer='glorot_uniform', name='prediction')(predict_vector)\n",
    "    \n",
    "    # Stitch input and output\n",
    "    model = Model([user_input, item_input], prediction)\n",
    "    \n",
    "    return model"
   ]
  },
  {
   "cell_type": "code",
   "execution_count": 12,
   "id": "088e1e54-7e66-4d33-8386-c7de1a622e58",
   "metadata": {},
   "outputs": [
    {
     "name": "stdout",
     "output_type": "stream",
     "text": [
      "Model: \"model\"\n",
      "__________________________________________________________________________________________________\n",
      " Layer (type)                Output Shape                 Param #   Connected to                  \n",
      "==================================================================================================\n",
      " user_input (InputLayer)     [(None, 1)]                  0         []                            \n",
      "                                                                                                  \n",
      " item_input (InputLayer)     [(None, 1)]                  0         []                            \n",
      "                                                                                                  \n",
      " mlp_user_embedding (Embedd  (None, 1, 32)                279328    ['user_input[0][0]']          \n",
      " ing)                                                                                             \n",
      "                                                                                                  \n",
      " mlp_item_embedding (Embedd  (None, 1, 32)                249280    ['item_input[0][0]']          \n",
      " ing)                                                                                             \n",
      "                                                                                                  \n",
      " flatten_2 (Flatten)         (None, 32)                   0         ['mlp_user_embedding[0][0]']  \n",
      "                                                                                                  \n",
      " flatten_3 (Flatten)         (None, 32)                   0         ['mlp_item_embedding[0][0]']  \n",
      "                                                                                                  \n",
      " concatenate (Concatenate)   (None, 64)                   0         ['flatten_2[0][0]',           \n",
      "                                                                     'flatten_3[0][0]']           \n",
      "                                                                                                  \n",
      " mf_user_embedding (Embeddi  (None, 1, 10)                87290     ['user_input[0][0]']          \n",
      " ng)                                                                                              \n",
      "                                                                                                  \n",
      " mf_item_embedding (Embeddi  (None, 1, 10)                77900     ['item_input[0][0]']          \n",
      " ng)                                                                                              \n",
      "                                                                                                  \n",
      " layer1 (Dense)              (None, 32)                   2080      ['concatenate[0][0]']         \n",
      "                                                                                                  \n",
      " flatten (Flatten)           (None, 10)                   0         ['mf_user_embedding[0][0]']   \n",
      "                                                                                                  \n",
      " flatten_1 (Flatten)         (None, 10)                   0         ['mf_item_embedding[0][0]']   \n",
      "                                                                                                  \n",
      " layer2 (Dense)              (None, 16)                   528       ['layer1[0][0]']              \n",
      "                                                                                                  \n",
      " multiply (Multiply)         (None, 10)                   0         ['flatten[0][0]',             \n",
      "                                                                     'flatten_1[0][0]']           \n",
      "                                                                                                  \n",
      " layer3 (Dense)              (None, 8)                    136       ['layer2[0][0]']              \n",
      "                                                                                                  \n",
      " concatenate_1 (Concatenate  (None, 18)                   0         ['multiply[0][0]',            \n",
      " )                                                                   'layer3[0][0]']              \n",
      "                                                                                                  \n",
      " prediction (Dense)          (None, 1)                    19        ['concatenate_1[0][0]']       \n",
      "                                                                                                  \n",
      "==================================================================================================\n",
      "Total params: 696561 (2.66 MB)\n",
      "Trainable params: 696561 (2.66 MB)\n",
      "Non-trainable params: 0 (0.00 Byte)\n",
      "__________________________________________________________________________________________________\n"
     ]
    }
   ],
   "source": [
    "NeuMF_model = get_NeuMF_model(\n",
    "    num_users=num_user,\n",
    "    num_items=num_book,\n",
    "    MF_dim=10,\n",
    "    MF_reg=(0, 0),\n",
    "    MLP_layers=[64 ,32, 16, 8],\n",
    "    MLP_regs=[0, 0, 0, 0])\n",
    "NeuMF_model.summary()"
   ]
  },
  {
   "cell_type": "code",
   "execution_count": 13,
   "id": "091964ad-3928-4e7c-8614-3a926b1a7699",
   "metadata": {},
   "outputs": [
    {
     "name": "stdout",
     "output_type": "stream",
     "text": [
      "Epoch 1/30\n",
      "16819/16819 [==============================] - 62s 4ms/step - loss: 0.6488 - mean_squared_error: 0.6488 - rmse: 0.7754 - val_loss: 0.5403 - val_mean_squared_error: 0.5403 - val_rmse: 0.7308\n",
      "Epoch 2/30\n",
      "16819/16819 [==============================] - 52s 3ms/step - loss: 0.4816 - mean_squared_error: 0.4816 - rmse: 0.6894 - val_loss: 0.5171 - val_mean_squared_error: 0.5171 - val_rmse: 0.7146\n",
      "Epoch 3/30\n",
      "16819/16819 [==============================] - 54s 3ms/step - loss: 0.4361 - mean_squared_error: 0.4361 - rmse: 0.6557 - val_loss: 0.5151 - val_mean_squared_error: 0.5151 - val_rmse: 0.7129\n",
      "Epoch 4/30\n",
      "16819/16819 [==============================] - 52s 3ms/step - loss: 0.4086 - mean_squared_error: 0.4086 - rmse: 0.6344 - val_loss: 0.5150 - val_mean_squared_error: 0.5150 - val_rmse: 0.7127\n",
      "Epoch 5/30\n",
      "16819/16819 [==============================] - 58s 3ms/step - loss: 0.3862 - mean_squared_error: 0.3862 - rmse: 0.6166 - val_loss: 0.5149 - val_mean_squared_error: 0.5149 - val_rmse: 0.7127\n",
      "Epoch 6/30\n",
      "16819/16819 [==============================] - 52s 3ms/step - loss: 0.3663 - mean_squared_error: 0.3663 - rmse: 0.6005 - val_loss: 0.5230 - val_mean_squared_error: 0.5230 - val_rmse: 0.7181\n",
      "Epoch 7/30\n",
      "16819/16819 [==============================] - 52s 3ms/step - loss: 0.3484 - mean_squared_error: 0.3484 - rmse: 0.5854 - val_loss: 0.5272 - val_mean_squared_error: 0.5272 - val_rmse: 0.7210\n",
      "Epoch 8/30\n",
      "16819/16819 [==============================] - 52s 3ms/step - loss: 0.3318 - mean_squared_error: 0.3318 - rmse: 0.5712 - val_loss: 0.5358 - val_mean_squared_error: 0.5358 - val_rmse: 0.7269\n",
      "Epoch 9/30\n",
      "16819/16819 [==============================] - 52s 3ms/step - loss: 0.3167 - mean_squared_error: 0.3167 - rmse: 0.5579 - val_loss: 0.5415 - val_mean_squared_error: 0.5415 - val_rmse: 0.7307\n",
      "Epoch 10/30\n",
      "16819/16819 [==============================] - 53s 3ms/step - loss: 0.3026 - mean_squared_error: 0.3026 - rmse: 0.5452 - val_loss: 0.5520 - val_mean_squared_error: 0.5520 - val_rmse: 0.7375\n",
      "Epoch 11/30\n",
      "16819/16819 [==============================] - 52s 3ms/step - loss: 0.2902 - mean_squared_error: 0.2902 - rmse: 0.5338 - val_loss: 0.5584 - val_mean_squared_error: 0.5584 - val_rmse: 0.7418\n",
      "Epoch 12/30\n",
      "16819/16819 [==============================] - 55s 3ms/step - loss: 0.2788 - mean_squared_error: 0.2788 - rmse: 0.5231 - val_loss: 0.5687 - val_mean_squared_error: 0.5687 - val_rmse: 0.7485\n",
      "Epoch 13/30\n",
      "16819/16819 [==============================] - 53s 3ms/step - loss: 0.2687 - mean_squared_error: 0.2687 - rmse: 0.5136 - val_loss: 0.5706 - val_mean_squared_error: 0.5706 - val_rmse: 0.7499\n",
      "Epoch 14/30\n",
      "16819/16819 [==============================] - 54s 3ms/step - loss: 0.2594 - mean_squared_error: 0.2594 - rmse: 0.5045 - val_loss: 0.5824 - val_mean_squared_error: 0.5824 - val_rmse: 0.7578\n",
      "Epoch 15/30\n",
      "16819/16819 [==============================] - 53s 3ms/step - loss: 0.2513 - mean_squared_error: 0.2513 - rmse: 0.4965 - val_loss: 0.5833 - val_mean_squared_error: 0.5833 - val_rmse: 0.7582\n",
      "Epoch 15: early stopping\n"
     ]
    }
   ],
   "source": [
    "# model config\n",
    "BATCH_SIZE = 64\n",
    "EPOCHS = 30\n",
    "VAL_SPLIT = 0.10\n",
    "\n",
    "# train model\n",
    "history = train_model(NeuMF_model, 'adam', BATCH_SIZE, EPOCHS, VAL_SPLIT, \n",
    "                      inputs=[df_train.user_id.values, df_train.book_id.values],\n",
    "                      outputs=df_train.rating.values)"
   ]
  },
  {
   "cell_type": "code",
   "execution_count": 16,
   "id": "adbac2e2-9954-4a64-8811-be470dd53385",
   "metadata": {},
   "outputs": [
    {
     "data": {
      "image/png": "[encoded data removed]",
      "text/plain": [
       "<Figure size 864x504 with 1 Axes>"
      ]
     },
     "metadata": {
      "needs_background": "light"
     },
     "output_type": "display_data"
    }
   ],
   "source": [
    "plot_learning_curve(history, 'rmse')"
   ]
  },
  {
   "cell_type": "code",
   "execution_count": 17,
   "id": "4841700e-4bf4-4de7-ab9d-763066cf7713",
   "metadata": {},
   "outputs": [
    {
     "name": "stdout",
     "output_type": "stream",
     "text": [
      "9344/9344 [==============================] - 8s 791us/step\n",
      "The out-of-sample RMSE of rating predictions is 0.7149\n"
     ]
    }
   ],
   "source": [
    "# load best model\n",
    "NeuMF_model = get_NeuMF_model(\n",
    "    num_users=num_user,\n",
    "    num_items=num_book,\n",
    "    MF_dim=10,\n",
    "    MF_reg=(0, 0),\n",
    "    MLP_layers=[64 ,32, 16, 8],\n",
    "    MLP_regs=[0, 0, 0, 0])\n",
    "NeuMF_model = load_trained_model(NeuMF_model, os.path.join(data_path, 'tmp/model.hdf5'))\n",
    "# make prediction using test data\n",
    "rmse = lambda true, pred: np.sqrt(np.mean(np.square(np.squeeze(predictions3) - np.squeeze(df_test.rating.values))))\n",
    "predictions3 = NeuMF_model.predict([df_test.user_id.values, df_test.book_id.values])\n",
    "# get the RMSE\n",
    "error3 = rmse(df_test.rating.values, predictions3)\n",
    "print('The out-of-sample RMSE of rating predictions is', round(error3, 4))"
   ]
  },
  {
   "cell_type": "code",
   "execution_count": null,
   "id": "4152c00a-9dad-4344-97ea-3cced6831137",
   "metadata": {},
   "outputs": [],
   "source": []
  }
 ],
 "metadata": {
  "kernelspec": {
   "display_name": "Python 3 (ipykernel)",
   "language": "python",
   "name": "python3"
  },
  "language_info": {
   "codemirror_mode": {
    "name": "ipython",
    "version": 3
   },
   "file_extension": ".py",
   "mimetype": "text/x-python",
   "name": "python",
   "nbconvert_exporter": "python",
   "pygments_lexer": "ipython3",
   "version": "3.9.6"
  }
 },
 "nbformat": 4,
 "nbformat_minor": 5
}
