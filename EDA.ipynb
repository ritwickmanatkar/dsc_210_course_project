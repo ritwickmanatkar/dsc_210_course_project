{
 "cells": [
  {
   "cell_type": "code",
   "execution_count": 1,
   "id": "402a23fe-4766-4618-885b-58993502c125",
   "metadata": {},
   "outputs": [
    {
     "name": "stderr",
     "output_type": "stream",
     "text": [
      "/Library/Frameworks/Python.framework/Versions/3.9/lib/python3.9/site-packages/scipy/__init__.py:146: UserWarning: A NumPy version >=1.16.5 and <1.23.0 is required for this version of SciPy (detected version 1.26.2\n",
      "  warnings.warn(f\"A NumPy version >={np_minversion} and <{np_maxversion}\"\n",
      "2023-11-27 10:30:35.399157: I tensorflow/core/platform/cpu_feature_guard.cc:182] This TensorFlow binary is optimized to use available CPU instructions in performance-critical operations.\n",
      "To enable the following instructions: AVX2 FMA, in other operations, rebuild TensorFlow with the appropriate compiler flags.\n"
     ]
    }
   ],
   "source": [
    "import os\n",
    "\n",
    "# data science imports\n",
    "import numpy as np\n",
    "import pandas as pd\n",
    "\n",
    "# visualization imports\n",
    "import matplotlib.pyplot as plt\n",
    "%matplotlib inline\n",
    "\n",
    "data_path = \"./\"\n",
    "data_filename = \"BookReviews.csv\"\n",
    "df_ratings = pd.read_csv(data_path+data_filename)"
   ]
  },
  {
   "cell_type": "code",
   "execution_count": 2,
   "id": "eadd523c-2994-479b-a76e-fc134526347c",
   "metadata": {},
   "outputs": [
    {
     "name": "stdout",
     "output_type": "stream",
     "text": [
      "8728\n",
      "7789\n"
     ]
    }
   ],
   "source": [
    "print(len(df_ratings[\"user_id\"].unique()))\n",
    "print(len(df_ratings[\"book_id\"].unique()))"
   ]
  },
  {
   "cell_type": "code",
   "execution_count": 3,
   "id": "6a1efe49-ef26-40d5-97bc-d320995981af",
   "metadata": {},
   "outputs": [],
   "source": [
    "books_info = \"./goodreads_books_comics_graphic.json\"\n",
    "df_books_info = pd.read_json(books_info, lines=True)"
   ]
  },
  {
   "cell_type": "code",
   "execution_count": 4,
   "id": "e51df1ad-53da-4925-ad74-f0d98e70e919",
   "metadata": {},
   "outputs": [
    {
     "data": {
      "text/html": [
       "<div>\n",
       "<style scoped>\n",
       "    .dataframe tbody tr th:only-of-type {\n",
       "        vertical-align: middle;\n",
       "    }\n",
       "\n",
       "    .dataframe tbody tr th {\n",
       "        vertical-align: top;\n",
       "    }\n",
       "\n",
       "    .dataframe thead th {\n",
       "        text-align: right;\n",
       "    }\n",
       "</style>\n",
       "<table border=\"1\" class=\"dataframe\">\n",
       "  <thead>\n",
       "    <tr style=\"text-align: right;\">\n",
       "      <th></th>\n",
       "      <th>book_id</th>\n",
       "      <th>title</th>\n",
       "    </tr>\n",
       "  </thead>\n",
       "  <tbody>\n",
       "    <tr>\n",
       "      <th>0</th>\n",
       "      <td>25742454</td>\n",
       "      <td>The Switchblade Mamma</td>\n",
       "    </tr>\n",
       "    <tr>\n",
       "      <th>1</th>\n",
       "      <td>30128855</td>\n",
       "      <td>Cruelle</td>\n",
       "    </tr>\n",
       "    <tr>\n",
       "      <th>2</th>\n",
       "      <td>13571772</td>\n",
       "      <td>Captain America: Winter Soldier (The Ultimate ...</td>\n",
       "    </tr>\n",
       "    <tr>\n",
       "      <th>3</th>\n",
       "      <td>35452242</td>\n",
       "      <td>Bounty Hunter 4/3: My Life in Combat from Mari...</td>\n",
       "    </tr>\n",
       "    <tr>\n",
       "      <th>4</th>\n",
       "      <td>707611</td>\n",
       "      <td>Superman Archives, Vol. 2</td>\n",
       "    </tr>\n",
       "    <tr>\n",
       "      <th>...</th>\n",
       "      <td>...</td>\n",
       "      <td>...</td>\n",
       "    </tr>\n",
       "    <tr>\n",
       "      <th>89406</th>\n",
       "      <td>30848889</td>\n",
       "      <td>Doctor Who: Free Comic Book Day 2016</td>\n",
       "    </tr>\n",
       "    <tr>\n",
       "      <th>89407</th>\n",
       "      <td>33553114</td>\n",
       "      <td>Love: The Tiger</td>\n",
       "    </tr>\n",
       "    <tr>\n",
       "      <th>89408</th>\n",
       "      <td>20653416</td>\n",
       "      <td>La búsqueda del pájaro del tiempo</td>\n",
       "    </tr>\n",
       "    <tr>\n",
       "      <th>89409</th>\n",
       "      <td>28928706</td>\n",
       "      <td>Dejah Thoris #1</td>\n",
       "    </tr>\n",
       "    <tr>\n",
       "      <th>89410</th>\n",
       "      <td>23363286</td>\n",
       "      <td>Dead Endings</td>\n",
       "    </tr>\n",
       "  </tbody>\n",
       "</table>\n",
       "<p>89411 rows × 2 columns</p>\n",
       "</div>"
      ],
      "text/plain": [
       "        book_id                                              title\n",
       "0      25742454                              The Switchblade Mamma\n",
       "1      30128855                                            Cruelle\n",
       "2      13571772  Captain America: Winter Soldier (The Ultimate ...\n",
       "3      35452242  Bounty Hunter 4/3: My Life in Combat from Mari...\n",
       "4        707611                          Superman Archives, Vol. 2\n",
       "...         ...                                                ...\n",
       "89406  30848889               Doctor Who: Free Comic Book Day 2016\n",
       "89407  33553114                                    Love: The Tiger\n",
       "89408  20653416                  La búsqueda del pájaro del tiempo\n",
       "89409  28928706                                    Dejah Thoris #1\n",
       "89410  23363286                                       Dead Endings\n",
       "\n",
       "[89411 rows x 2 columns]"
      ]
     },
     "execution_count": 4,
     "metadata": {},
     "output_type": "execute_result"
    }
   ],
   "source": [
    "df_books_info[[\"book_id\", \"title\"]]"
   ]
  },
  {
   "cell_type": "code",
   "execution_count": 5,
   "id": "1cf7d127-42a8-4e6c-a46a-084d19eca83e",
   "metadata": {},
   "outputs": [],
   "source": [
    "df_eda1 = df_ratings.groupby([\"book_id\"], group_keys=False).sum()\n",
    "df_eda2 = df_ratings.groupby([\"book_id\"], group_keys=False).count()\n",
    "df_eda2 = df_eda2.sort_values(by=('rating'), ascending=False)"
   ]
  },
  {
   "cell_type": "code",
   "execution_count": 6,
   "id": "1df773d2-0d9a-4d97-9857-ee761863e587",
   "metadata": {},
   "outputs": [
    {
     "data": {
      "text/plain": [
       "user_id    100\n",
       "rating     100\n",
       "Name: 22733426, dtype: int64"
      ]
     },
     "execution_count": 6,
     "metadata": {},
     "output_type": "execute_result"
    }
   ],
   "source": [
    "df_eda2.iloc[5000, :]"
   ]
  },
  {
   "cell_type": "code",
   "execution_count": 7,
   "id": "077ccaf3-f145-49d0-9a95-ce96c6e323ff",
   "metadata": {},
   "outputs": [],
   "source": [
    "r_avg = list()\n",
    "for i in range(len(df_eda1)):\n",
    "    book_id = df_eda2.index[i]\n",
    "    r_sum = df_eda1[df_eda1.index==book_id].iloc[0, 0]\n",
    "    avg = r_sum / df_eda2.rating.iloc[i]\n",
    "    r_avg.append([book_id, avg])"
   ]
  },
  {
   "cell_type": "code",
   "execution_count": 8,
   "id": "b384b115-17c5-4ad4-8e4e-1dfa66617e47",
   "metadata": {},
   "outputs": [],
   "source": [
    "rating_info = pd.DataFrame(r_avg[:5000], columns=[\"book_id\", \"rating_avg\"])\n",
    "# rating_info[\"title\"] = \n",
    "rating_info = rating_info.sort_values(by=('rating_avg'), ascending=False)"
   ]
  },
  {
   "cell_type": "code",
   "execution_count": 9,
   "id": "f69e7f94-dc7e-4f2f-9489-28be1baf2e83",
   "metadata": {},
   "outputs": [
    {
     "data": {
      "text/html": [
       "<div>\n",
       "<style scoped>\n",
       "    .dataframe tbody tr th:only-of-type {\n",
       "        vertical-align: middle;\n",
       "    }\n",
       "\n",
       "    .dataframe tbody tr th {\n",
       "        vertical-align: top;\n",
       "    }\n",
       "\n",
       "    .dataframe thead th {\n",
       "        text-align: right;\n",
       "    }\n",
       "</style>\n",
       "<table border=\"1\" class=\"dataframe\">\n",
       "  <thead>\n",
       "    <tr style=\"text-align: right;\">\n",
       "      <th></th>\n",
       "      <th>book_id</th>\n",
       "      <th>rating_avg</th>\n",
       "      <th>title</th>\n",
       "    </tr>\n",
       "  </thead>\n",
       "  <tbody>\n",
       "    <tr>\n",
       "      <th>649</th>\n",
       "      <td>24812</td>\n",
       "      <td>4.814727</td>\n",
       "      <td>The Complete Calvin and Hobbes</td>\n",
       "    </tr>\n",
       "    <tr>\n",
       "      <th>1803</th>\n",
       "      <td>3375878</td>\n",
       "      <td>4.750000</td>\n",
       "      <td>The Absolute Sandman, Volume Four</td>\n",
       "    </tr>\n",
       "    <tr>\n",
       "      <th>1909</th>\n",
       "      <td>22078240</td>\n",
       "      <td>4.720930</td>\n",
       "      <td>Saga: Book One</td>\n",
       "    </tr>\n",
       "    <tr>\n",
       "      <th>1041</th>\n",
       "      <td>70487</td>\n",
       "      <td>4.718850</td>\n",
       "      <td>Attack of the Deranged Mutant Killer Monster S...</td>\n",
       "    </tr>\n",
       "    <tr>\n",
       "      <th>739</th>\n",
       "      <td>29436571</td>\n",
       "      <td>4.713198</td>\n",
       "      <td>March: Book Three (March, #3)</td>\n",
       "    </tr>\n",
       "    <tr>\n",
       "      <th>564</th>\n",
       "      <td>24813</td>\n",
       "      <td>4.706402</td>\n",
       "      <td>The Calvin and Hobbes Tenth Anniversary Book</td>\n",
       "    </tr>\n",
       "    <tr>\n",
       "      <th>1693</th>\n",
       "      <td>9691883</td>\n",
       "      <td>4.695279</td>\n",
       "      <td>鋼の錬金術師 27</td>\n",
       "    </tr>\n",
       "    <tr>\n",
       "      <th>832</th>\n",
       "      <td>24814</td>\n",
       "      <td>4.690608</td>\n",
       "      <td>It's a Magical World: A Calvin and Hobbes Coll...</td>\n",
       "    </tr>\n",
       "    <tr>\n",
       "      <th>1049</th>\n",
       "      <td>24815</td>\n",
       "      <td>4.689103</td>\n",
       "      <td>The Indispensable Calvin and Hobbes</td>\n",
       "    </tr>\n",
       "    <tr>\n",
       "      <th>861</th>\n",
       "      <td>24816</td>\n",
       "      <td>4.687324</td>\n",
       "      <td>Homicidal Psycho Jungle Cat: A Calvin and Hobb...</td>\n",
       "    </tr>\n",
       "  </tbody>\n",
       "</table>\n",
       "</div>"
      ],
      "text/plain": [
       "       book_id  rating_avg                                              title\n",
       "649      24812    4.814727                     The Complete Calvin and Hobbes\n",
       "1803   3375878    4.750000                  The Absolute Sandman, Volume Four\n",
       "1909  22078240    4.720930                                     Saga: Book One\n",
       "1041     70487    4.718850  Attack of the Deranged Mutant Killer Monster S...\n",
       "739   29436571    4.713198                      March: Book Three (March, #3)\n",
       "564      24813    4.706402       The Calvin and Hobbes Tenth Anniversary Book\n",
       "1693   9691883    4.695279                                          鋼の錬金術師 27\n",
       "832      24814    4.690608  It's a Magical World: A Calvin and Hobbes Coll...\n",
       "1049     24815    4.689103                The Indispensable Calvin and Hobbes\n",
       "861      24816    4.687324  Homicidal Psycho Jungle Cat: A Calvin and Hobb..."
      ]
     },
     "execution_count": 9,
     "metadata": {},
     "output_type": "execute_result"
    }
   ],
   "source": [
    "title = [ df_books_info[df_books_info.book_id==rating_info.book_id.iloc[i]].iloc[0, -2] for i in range(len(rating_info))]\n",
    "rating_info[\"title\"] = title\n",
    "rating_info.iloc[:10, :]"
   ]
  }
 ],
 "metadata": {
  "kernelspec": {
   "display_name": "Python 3 (ipykernel)",
   "language": "python",
   "name": "python3"
  },
  "language_info": {
   "codemirror_mode": {
    "name": "ipython",
    "version": 3
   },
   "file_extension": ".py",
   "mimetype": "text/x-python",
   "name": "python",
   "nbconvert_exporter": "python",
   "pygments_lexer": "ipython3",
   "version": "3.9.6"
  }
 },
 "nbformat": 4,
 "nbformat_minor": 5
}
